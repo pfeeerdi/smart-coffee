{
 "cells": [
  {
   "cell_type": "code",
   "execution_count": 1,
   "id": "befbd7fb-b05a-48cb-ae3f-ecfee75bf4b5",
   "metadata": {},
   "outputs": [],
   "source": [
    "import pandas as pd"
   ]
  },
  {
   "cell_type": "code",
   "execution_count": 2,
   "id": "2fffea0f-df3e-4fac-a4b7-38254849d02e",
   "metadata": {},
   "outputs": [],
   "source": [
    "from app.service.coffee_service import get_hist"
   ]
  },
  {
   "cell_type": "code",
   "execution_count": 60,
   "id": "b1a40579-720c-4c62-a14f-5a057b8decb7",
   "metadata": {},
   "outputs": [],
   "source": [
    "data = get_hist()\n",
    "df = pd.DataFrame()"
   ]
  },
  {
   "cell_type": "code",
   "execution_count": 61,
   "id": "147a31cb-4185-48d0-bf89-1ef9063eb674",
   "metadata": {},
   "outputs": [
    {
     "data": {
      "text/html": [
       "<div>\n",
       "<style scoped>\n",
       "    .dataframe tbody tr th:only-of-type {\n",
       "        vertical-align: middle;\n",
       "    }\n",
       "\n",
       "    .dataframe tbody tr th {\n",
       "        vertical-align: top;\n",
       "    }\n",
       "\n",
       "    .dataframe thead th {\n",
       "        text-align: right;\n",
       "    }\n",
       "</style>\n",
       "<table border=\"1\" class=\"dataframe\">\n",
       "  <thead>\n",
       "    <tr style=\"text-align: right;\">\n",
       "      <th></th>\n",
       "      <th>DateTime</th>\n",
       "      <th>Type of Coffee</th>\n",
       "    </tr>\n",
       "  </thead>\n",
       "  <tbody>\n",
       "    <tr>\n",
       "      <th>0</th>\n",
       "      <td>2022-02-03 09:58:08</td>\n",
       "      <td>espresso</td>\n",
       "    </tr>\n",
       "    <tr>\n",
       "      <th>1</th>\n",
       "      <td>2022-02-03 10:00:52</td>\n",
       "      <td>espresso</td>\n",
       "    </tr>\n",
       "    <tr>\n",
       "      <th>2</th>\n",
       "      <td>2022-02-03 10:02:34</td>\n",
       "      <td>double_espresso</td>\n",
       "    </tr>\n",
       "    <tr>\n",
       "      <th>3</th>\n",
       "      <td>2022-02-03 10:12:36</td>\n",
       "      <td>double_espresso</td>\n",
       "    </tr>\n",
       "    <tr>\n",
       "      <th>4</th>\n",
       "      <td>2022-02-03 10:44:19</td>\n",
       "      <td>double_espresso</td>\n",
       "    </tr>\n",
       "  </tbody>\n",
       "</table>\n",
       "</div>"
      ],
      "text/plain": [
       "             DateTime   Type of Coffee\n",
       "0 2022-02-03 09:58:08         espresso\n",
       "1 2022-02-03 10:00:52         espresso\n",
       "2 2022-02-03 10:02:34  double_espresso\n",
       "3 2022-02-03 10:12:36  double_espresso\n",
       "4 2022-02-03 10:44:19  double_espresso"
      ]
     },
     "execution_count": 61,
     "metadata": {},
     "output_type": "execute_result"
    }
   ],
   "source": [
    "df[\"DateTime\"] = pd.to_datetime(data[\"dates\"])\n",
    "df[\"Type of Coffee\"] = data[\"coffee_types\"]\n",
    "df.head()"
   ]
  },
  {
   "cell_type": "code",
   "execution_count": 62,
   "id": "4200e43e-c58b-4de0-aae4-4c01839ee724",
   "metadata": {},
   "outputs": [],
   "source": [
    "#Split into Espresso and Double Espresso\n",
    "espressi = df[df[\"Type of Coffee\"]==\"espresso\"]\n",
    "d_espressi = df[df[\"Type of Coffee\"]==\"double_espresso\"]\n",
    "#Count Coffee per day\n",
    "espressi = espressi.groupby(by=espressi['DateTime'].dt.date).count()\n",
    "d_espressi = d_espressi.groupby(by=d_espressi['DateTime'].dt.date).count()\n",
    "\n",
    "#Rename Columns\n",
    "espressi.rename(columns={'Type of Coffee':'# of espressi'}, inplace=True)\n",
    "d_espressi.rename(columns={'Type of Coffee':'# of double espressi'}, inplace=True)"
   ]
  },
  {
   "cell_type": "code",
   "execution_count": 63,
   "id": "7e63b6ef-40b8-4957-a2a2-119af40fe0b6",
   "metadata": {},
   "outputs": [
    {
     "data": {
      "text/html": [
       "<div>\n",
       "<style scoped>\n",
       "    .dataframe tbody tr th:only-of-type {\n",
       "        vertical-align: middle;\n",
       "    }\n",
       "\n",
       "    .dataframe tbody tr th {\n",
       "        vertical-align: top;\n",
       "    }\n",
       "\n",
       "    .dataframe thead th {\n",
       "        text-align: right;\n",
       "    }\n",
       "</style>\n",
       "<table border=\"1\" class=\"dataframe\">\n",
       "  <thead>\n",
       "    <tr style=\"text-align: right;\">\n",
       "      <th></th>\n",
       "      <th>DateTime</th>\n",
       "      <th># of double espressi</th>\n",
       "    </tr>\n",
       "    <tr>\n",
       "      <th>DateTime</th>\n",
       "      <th></th>\n",
       "      <th></th>\n",
       "    </tr>\n",
       "  </thead>\n",
       "  <tbody>\n",
       "    <tr>\n",
       "      <th>2022-02-03</th>\n",
       "      <td>3</td>\n",
       "      <td>3</td>\n",
       "    </tr>\n",
       "  </tbody>\n",
       "</table>\n",
       "</div>"
      ],
      "text/plain": [
       "            DateTime  # of double espressi\n",
       "DateTime                                  \n",
       "2022-02-03         3                     3"
      ]
     },
     "execution_count": 63,
     "metadata": {},
     "output_type": "execute_result"
    }
   ],
   "source": [
    "d_espressi"
   ]
  },
  {
   "cell_type": "code",
   "execution_count": null,
   "id": "1e561154-1f7d-44f5-b003-a2d40b7c72ac",
   "metadata": {},
   "outputs": [],
   "source": []
  }
 ],
 "metadata": {
  "kernelspec": {
   "display_name": "Python 3 (ipykernel)",
   "language": "python",
   "name": "python3"
  },
  "language_info": {
   "codemirror_mode": {
    "name": "ipython",
    "version": 3
   },
   "file_extension": ".py",
   "mimetype": "text/x-python",
   "name": "python",
   "nbconvert_exporter": "python",
   "pygments_lexer": "ipython3",
   "version": "3.7.10"
  }
 },
 "nbformat": 4,
 "nbformat_minor": 5
}
