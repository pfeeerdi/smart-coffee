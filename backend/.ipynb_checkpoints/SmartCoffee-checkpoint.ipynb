{
 "cells": [
  {
   "cell_type": "code",
   "execution_count": 1,
   "id": "0faf803d-fbd7-4d4a-b12a-32dbbc4de804",
   "metadata": {},
   "outputs": [],
   "source": [
    "import pandas as pd\n",
    "from datetime import datetime, timedelta\n",
    "from matplotlib import pyplot as plt\n",
    "import matplotlib.ticker as ticker\n",
    "from matplotlib import dates as mpl_dates"
   ]
  },
  {
   "cell_type": "code",
   "execution_count": 2,
   "id": "5559afee-94ad-4138-adb3-bb8a726710ec",
   "metadata": {},
   "outputs": [],
   "source": [
    "df = pd.read_csv(\"Kaffeedaten4.csv\", delimiter = \";\", parse_dates=[\"Datum\"])"
   ]
  },
  {
   "cell_type": "code",
   "execution_count": 3,
   "id": "828d45aa-be29-4211-916c-026f9ee7c9e6",
   "metadata": {},
   "outputs": [
    {
     "data": {
      "text/html": [
       "<div>\n",
       "<style scoped>\n",
       "    .dataframe tbody tr th:only-of-type {\n",
       "        vertical-align: middle;\n",
       "    }\n",
       "\n",
       "    .dataframe tbody tr th {\n",
       "        vertical-align: top;\n",
       "    }\n",
       "\n",
       "    .dataframe thead th {\n",
       "        text-align: right;\n",
       "    }\n",
       "</style>\n",
       "<table border=\"1\" class=\"dataframe\">\n",
       "  <thead>\n",
       "    <tr style=\"text-align: right;\">\n",
       "      <th></th>\n",
       "      <th>Datum</th>\n",
       "      <th>Uhrzeit</th>\n",
       "      <th>Art</th>\n",
       "    </tr>\n",
       "  </thead>\n",
       "  <tbody>\n",
       "    <tr>\n",
       "      <th>0</th>\n",
       "      <td>2021-12-12</td>\n",
       "      <td>10:12:00</td>\n",
       "      <td>Kaffee</td>\n",
       "    </tr>\n",
       "    <tr>\n",
       "      <th>1</th>\n",
       "      <td>2021-12-13</td>\n",
       "      <td>09:13:00</td>\n",
       "      <td>Kaffee</td>\n",
       "    </tr>\n",
       "    <tr>\n",
       "      <th>2</th>\n",
       "      <td>2021-12-14</td>\n",
       "      <td>14:44:00</td>\n",
       "      <td>Kaffee</td>\n",
       "    </tr>\n",
       "    <tr>\n",
       "      <th>3</th>\n",
       "      <td>2021-12-14</td>\n",
       "      <td>12:12:00</td>\n",
       "      <td>Kaffee</td>\n",
       "    </tr>\n",
       "    <tr>\n",
       "      <th>4</th>\n",
       "      <td>2021-12-12</td>\n",
       "      <td>12:33:00</td>\n",
       "      <td>Kaffee</td>\n",
       "    </tr>\n",
       "  </tbody>\n",
       "</table>\n",
       "</div>"
      ],
      "text/plain": [
       "       Datum   Uhrzeit     Art\n",
       "0 2021-12-12  10:12:00  Kaffee\n",
       "1 2021-12-13  09:13:00  Kaffee\n",
       "2 2021-12-14  14:44:00  Kaffee\n",
       "3 2021-12-14  12:12:00  Kaffee\n",
       "4 2021-12-12  12:33:00  Kaffee"
      ]
     },
     "execution_count": 3,
     "metadata": {},
     "output_type": "execute_result"
    }
   ],
   "source": [
    "df.head()"
   ]
  },
  {
   "cell_type": "code",
   "execution_count": 4,
   "id": "174baf65",
   "metadata": {},
   "outputs": [],
   "source": [
    "#df[\"Datum\"] = pd.to_datetime(df[\"Datum\"])"
   ]
  },
  {
   "cell_type": "code",
   "execution_count": 5,
   "id": "3727c3f0",
   "metadata": {},
   "outputs": [],
   "source": [
    "#df[\"Uhrzeit\"] = pd.to_datetime(df[\"Uhrzeit\"], format = \"%H:%M:%S\")"
   ]
  },
  {
   "cell_type": "code",
   "execution_count": 6,
   "id": "dbd3ab01",
   "metadata": {},
   "outputs": [],
   "source": [
    "filter1 = (df[\"Art\"] == \"Kaffee\")\n",
    "df1 = df.loc[filter1]"
   ]
  },
  {
   "cell_type": "code",
   "execution_count": 7,
   "id": "554ddbe7",
   "metadata": {},
   "outputs": [],
   "source": [
    "filter0 = (df[\"Art\"] == \"Espresso\")\n",
    "df0 = df.loc[filter1]"
   ]
  },
  {
   "cell_type": "code",
   "execution_count": 8,
   "id": "7aad1b50",
   "metadata": {
    "tags": []
   },
   "outputs": [],
   "source": [
    "df1 = df1.sort_values(by=['Uhrzeit'])"
   ]
  },
  {
   "cell_type": "code",
   "execution_count": 9,
   "id": "6199a36d-c3ea-4200-9570-84ff6d5fb1c5",
   "metadata": {},
   "outputs": [],
   "source": [
    "#df1 = df1.sort_values(by=['Datum'])"
   ]
  },
  {
   "cell_type": "code",
   "execution_count": 10,
   "id": "71635a82-1f24-49f6-8888-c8ac6acb5459",
   "metadata": {},
   "outputs": [],
   "source": [
    "datum1 = df1[\"Datum\"]\n",
    "art1 = df1[\"Art\"]\n",
    "zeit1 = df1[\"Uhrzeit\"]"
   ]
  },
  {
   "cell_type": "code",
   "execution_count": 11,
   "id": "7ee692f0",
   "metadata": {},
   "outputs": [],
   "source": [
    "datum0 = df0[\"Datum\"]\n",
    "art0 = df0[\"Art\"]\n",
    "zeit0 = df0[\"Uhrzeit\"]"
   ]
  },
  {
   "cell_type": "code",
   "execution_count": 14,
   "id": "72c1349f",
   "metadata": {},
   "outputs": [
    {
     "data": {
      "image/png": "[encoded data removed]",
      "text/plain": [
       "<Figure size 432x288 with 1 Axes>"
      ]
     },
     "metadata": {
      "needs_background": "light"
     },
     "output_type": "display_data"
    }
   ],
   "source": [
    "plt.plot_date(datum1, zeit1, \"ro\")\n",
    "#plt.plot_date(datum0, zeit0, \"b\")\n",
    "\n",
    "plt.gcf().autofmt_xdate()\n",
    "date_format = mpl_dates.DateFormatter(\"%b, %d %Y\")\n",
    "plt.gca().xaxis.set_major_formatter(date_format)\n",
    "plt.title(\"Kaffee Konsum Statistik\")\n",
    "plt.xlabel(\"Datum\")\n",
    "plt.ylabel(\"Uhrzeit\")\n",
    "plt.tight_layout()\n",
    "plt.show()"
   ]
  },
  {
   "cell_type": "code",
   "execution_count": 43,
   "id": "cf756b4b",
   "metadata": {},
   "outputs": [
    {
     "data": {
      "text/html": [
       "<div>\n",
       "<style scoped>\n",
       "    .dataframe tbody tr th:only-of-type {\n",
       "        vertical-align: middle;\n",
       "    }\n",
       "\n",
       "    .dataframe tbody tr th {\n",
       "        vertical-align: top;\n",
       "    }\n",
       "\n",
       "    .dataframe thead th {\n",
       "        text-align: right;\n",
       "    }\n",
       "</style>\n",
       "<table border=\"1\" class=\"dataframe\">\n",
       "  <thead>\n",
       "    <tr style=\"text-align: right;\">\n",
       "      <th></th>\n",
       "      <th>Datum</th>\n",
       "      <th>Uhrzeit</th>\n",
       "      <th>Art</th>\n",
       "    </tr>\n",
       "  </thead>\n",
       "  <tbody>\n",
       "    <tr>\n",
       "      <th>15</th>\n",
       "      <td>2021-12-17</td>\n",
       "      <td>05:45:00</td>\n",
       "      <td>Espresso</td>\n",
       "    </tr>\n",
       "    <tr>\n",
       "      <th>19</th>\n",
       "      <td>2021-12-18</td>\n",
       "      <td>06:36:00</td>\n",
       "      <td>Espresso</td>\n",
       "    </tr>\n",
       "    <tr>\n",
       "      <th>25</th>\n",
       "      <td>2021-12-17</td>\n",
       "      <td>06:45:00</td>\n",
       "      <td>Espresso</td>\n",
       "    </tr>\n",
       "    <tr>\n",
       "      <th>13</th>\n",
       "      <td>2021-12-16</td>\n",
       "      <td>06:55:00</td>\n",
       "      <td>Kaffee</td>\n",
       "    </tr>\n",
       "    <tr>\n",
       "      <th>7</th>\n",
       "      <td>2021-12-15</td>\n",
       "      <td>08:07:00</td>\n",
       "      <td>Kaffee</td>\n",
       "    </tr>\n",
       "    <tr>\n",
       "      <th>26</th>\n",
       "      <td>2021-12-17</td>\n",
       "      <td>08:45:00</td>\n",
       "      <td>Espresso</td>\n",
       "    </tr>\n",
       "    <tr>\n",
       "      <th>1</th>\n",
       "      <td>2021-12-13</td>\n",
       "      <td>09:13:00</td>\n",
       "      <td>Kaffee</td>\n",
       "    </tr>\n",
       "    <tr>\n",
       "      <th>5</th>\n",
       "      <td>2021-12-20</td>\n",
       "      <td>09:16:00</td>\n",
       "      <td>Kaffee</td>\n",
       "    </tr>\n",
       "    <tr>\n",
       "      <th>8</th>\n",
       "      <td>2021-12-15</td>\n",
       "      <td>09:16:00</td>\n",
       "      <td>Kaffee</td>\n",
       "    </tr>\n",
       "    <tr>\n",
       "      <th>9</th>\n",
       "      <td>2021-12-15</td>\n",
       "      <td>09:16:00</td>\n",
       "      <td>Kaffee</td>\n",
       "    </tr>\n",
       "    <tr>\n",
       "      <th>6</th>\n",
       "      <td>2021-12-20</td>\n",
       "      <td>09:16:00</td>\n",
       "      <td>Kaffee</td>\n",
       "    </tr>\n",
       "    <tr>\n",
       "      <th>27</th>\n",
       "      <td>2021-12-17</td>\n",
       "      <td>09:45:00</td>\n",
       "      <td>Espresso</td>\n",
       "    </tr>\n",
       "    <tr>\n",
       "      <th>14</th>\n",
       "      <td>2021-12-17</td>\n",
       "      <td>09:56:00</td>\n",
       "      <td>Kaffee</td>\n",
       "    </tr>\n",
       "    <tr>\n",
       "      <th>0</th>\n",
       "      <td>2021-12-12</td>\n",
       "      <td>10:12:00</td>\n",
       "      <td>Kaffee</td>\n",
       "    </tr>\n",
       "    <tr>\n",
       "      <th>11</th>\n",
       "      <td>2021-12-15</td>\n",
       "      <td>11:16:00</td>\n",
       "      <td>Kaffee</td>\n",
       "    </tr>\n",
       "    <tr>\n",
       "      <th>20</th>\n",
       "      <td>2021-12-18</td>\n",
       "      <td>12:11:00</td>\n",
       "      <td>Espresso</td>\n",
       "    </tr>\n",
       "    <tr>\n",
       "      <th>3</th>\n",
       "      <td>2021-12-14</td>\n",
       "      <td>12:12:00</td>\n",
       "      <td>Kaffee</td>\n",
       "    </tr>\n",
       "    <tr>\n",
       "      <th>10</th>\n",
       "      <td>2021-12-15</td>\n",
       "      <td>12:16:00</td>\n",
       "      <td>Kaffee</td>\n",
       "    </tr>\n",
       "    <tr>\n",
       "      <th>17</th>\n",
       "      <td>2021-12-17</td>\n",
       "      <td>12:23:00</td>\n",
       "      <td>Espresso</td>\n",
       "    </tr>\n",
       "    <tr>\n",
       "      <th>4</th>\n",
       "      <td>2021-12-12</td>\n",
       "      <td>12:33:00</td>\n",
       "      <td>Kaffee</td>\n",
       "    </tr>\n",
       "    <tr>\n",
       "      <th>12</th>\n",
       "      <td>2021-12-16</td>\n",
       "      <td>14:33:00</td>\n",
       "      <td>Kaffee</td>\n",
       "    </tr>\n",
       "    <tr>\n",
       "      <th>22</th>\n",
       "      <td>2021-12-18</td>\n",
       "      <td>14:34:00</td>\n",
       "      <td>Espresso</td>\n",
       "    </tr>\n",
       "    <tr>\n",
       "      <th>2</th>\n",
       "      <td>2021-12-14</td>\n",
       "      <td>14:44:00</td>\n",
       "      <td>Kaffee</td>\n",
       "    </tr>\n",
       "    <tr>\n",
       "      <th>18</th>\n",
       "      <td>2021-12-18</td>\n",
       "      <td>15:34:00</td>\n",
       "      <td>Espresso</td>\n",
       "    </tr>\n",
       "    <tr>\n",
       "      <th>21</th>\n",
       "      <td>2021-12-18</td>\n",
       "      <td>15:43:00</td>\n",
       "      <td>Espresso</td>\n",
       "    </tr>\n",
       "    <tr>\n",
       "      <th>16</th>\n",
       "      <td>2021-12-17</td>\n",
       "      <td>22:23:00</td>\n",
       "      <td>Espresso</td>\n",
       "    </tr>\n",
       "    <tr>\n",
       "      <th>24</th>\n",
       "      <td>2021-12-19</td>\n",
       "      <td>22:33:00</td>\n",
       "      <td>Espresso</td>\n",
       "    </tr>\n",
       "    <tr>\n",
       "      <th>23</th>\n",
       "      <td>2021-12-18</td>\n",
       "      <td>23:02:00</td>\n",
       "      <td>Espresso</td>\n",
       "    </tr>\n",
       "  </tbody>\n",
       "</table>\n",
       "</div>"
      ],
      "text/plain": [
       "        Datum   Uhrzeit       Art\n",
       "15 2021-12-17  05:45:00  Espresso\n",
       "19 2021-12-18  06:36:00  Espresso\n",
       "25 2021-12-17  06:45:00  Espresso\n",
       "13 2021-12-16  06:55:00    Kaffee\n",
       "7  2021-12-15  08:07:00    Kaffee\n",
       "26 2021-12-17  08:45:00  Espresso\n",
       "1  2021-12-13  09:13:00    Kaffee\n",
       "5  2021-12-20  09:16:00    Kaffee\n",
       "8  2021-12-15  09:16:00    Kaffee\n",
       "9  2021-12-15  09:16:00    Kaffee\n",
       "6  2021-12-20  09:16:00    Kaffee\n",
       "27 2021-12-17  09:45:00  Espresso\n",
       "14 2021-12-17  09:56:00    Kaffee\n",
       "0  2021-12-12  10:12:00    Kaffee\n",
       "11 2021-12-15  11:16:00    Kaffee\n",
       "20 2021-12-18  12:11:00  Espresso\n",
       "3  2021-12-14  12:12:00    Kaffee\n",
       "10 2021-12-15  12:16:00    Kaffee\n",
       "17 2021-12-17  12:23:00  Espresso\n",
       "4  2021-12-12  12:33:00    Kaffee\n",
       "12 2021-12-16  14:33:00    Kaffee\n",
       "22 2021-12-18  14:34:00  Espresso\n",
       "2  2021-12-14  14:44:00    Kaffee\n",
       "18 2021-12-18  15:34:00  Espresso\n",
       "21 2021-12-18  15:43:00  Espresso\n",
       "16 2021-12-17  22:23:00  Espresso\n",
       "24 2021-12-19  22:33:00  Espresso\n",
       "23 2021-12-18  23:02:00  Espresso"
      ]
     },
     "execution_count": 43,
     "metadata": {},
     "output_type": "execute_result"
    }
   ],
   "source": []
  },
  {
   "cell_type": "code",
   "execution_count": 44,
   "id": "4030c754",
   "metadata": {},
   "outputs": [
    {
     "data": {
      "text/plain": [
       "0     10:12:00\n",
       "1     09:13:00\n",
       "2     14:44:00\n",
       "3     12:12:00\n",
       "4     12:33:00\n",
       "5     09:16:00\n",
       "6     09:16:00\n",
       "7     08:07:00\n",
       "8     09:16:00\n",
       "9     09:16:00\n",
       "10    12:16:00\n",
       "11    11:16:00\n",
       "12    14:33:00\n",
       "13    06:55:00\n",
       "14    09:56:00\n",
       "Name: Uhrzeit, dtype: object"
      ]
     },
     "execution_count": 44,
     "metadata": {},
     "output_type": "execute_result"
    }
   ],
   "source": []
  },
  {
   "cell_type": "code",
   "execution_count": null,
   "id": "28132fc4",
   "metadata": {},
   "outputs": [],
   "source": []
  },
  {
   "cell_type": "code",
   "execution_count": null,
   "id": "8864f794",
   "metadata": {},
   "outputs": [],
   "source": []
  },
  {
   "cell_type": "code",
   "execution_count": null,
   "id": "eb28b259",
   "metadata": {},
   "outputs": [],
   "source": []
  }
 ],
 "metadata": {
  "kernelspec": {
   "display_name": "Python 3 (ipykernel)",
   "language": "python",
   "name": "python3"
  },
  "language_info": {
   "codemirror_mode": {
    "name": "ipython",
    "version": 3
   },
   "file_extension": ".py",
   "mimetype": "text/x-python",
   "name": "python",
   "nbconvert_exporter": "python",
   "pygments_lexer": "ipython3",
   "version": "3.9.7"
  }
 },
 "nbformat": 4,
 "nbformat_minor": 5
}
