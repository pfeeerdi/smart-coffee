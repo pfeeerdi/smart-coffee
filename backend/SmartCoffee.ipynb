{
 "cells": [
  {
   "cell_type": "code",
   "execution_count": 21,
   "id": "5559afee-94ad-4138-adb3-bb8a726710ec",
   "metadata": {},
   "outputs": [
    {
     "data": {
      "image/png": "[encoded data removed]",
      "text/plain": [
       "<Figure size 432x288 with 1 Axes>"
      ]
     },
     "metadata": {
      "needs_background": "light"
     },
     "output_type": "display_data"
    }
   ],
   "source": [
    "import pandas as pd\n",
    "from app.service.coffee_service import get_hist\n",
    "from matplotlib import pyplot as plt\n",
    "import matplotlib.ticker as ticker\n",
    "from matplotlib import dates as mpl_dates\n",
    "\n",
    "data = get_hist()\n",
    "df = pd.DataFrame()\n",
    "\n",
    "dates = [x[:10] for x in data[\"dates\"]]\n",
    "time = [x[11:] for x in data[\"dates\"]]\n",
    "\n",
    "df[\"Datum\"] = pd.to_datetime(dates)\n",
    "df[\"Uhrzeit\"] = time\n",
    "df[\"Art\"] = data[\"coffee_types\"]\n",
    "\n",
    "#Filter for espresso or double espresso\n",
    "filter_db_es = (df[\"Art\"] == \"double_espresso\")\n",
    "d_espresso_df = df.loc[filter_db_es]\n",
    "filter_es = (df[\"Art\"] == \"espresso\")\n",
    "espresso_df = df.loc[filter_es]\n",
    "\n",
    "#sort by time\n",
    "d_espresso_df.sort_values(by=['Uhrzeit'])\n",
    "espresso_df.sort_values(by=['Uhrzeit'])\n",
    "\n",
    "#variables for plotting\n",
    "es_datum = d_espresso_df[\"Datum\"]\n",
    "es_art = d_espresso_df[\"Art\"]\n",
    "es_zeit = d_espresso_df[\"Uhrzeit\"]\n",
    "db_es_datum = espresso_df[\"Datum\"]\n",
    "db_es_art = espresso_df[\"Art\"]\n",
    "db_es_zeit = espresso_df[\"Uhrzeit\"]\n",
    "\n",
    "#Plot\n",
    "plt.plot_date(es_datum, es_zeit, \"ro\")\n",
    "plt.plot_date(db_es_datum, db_es_zeit, \"bo\")\n",
    "\n",
    "plt.gcf().autofmt_xdate()\n",
    "date_format = mpl_dates.DateFormatter(\"%b, %d %Y\")\n",
    "plt.gca().xaxis.set_major_formatter(date_format)\n",
    "plt.title(\"Kaffee Konsum Statistik\")\n",
    "plt.xlabel(\"Datum\")\n",
    "plt.ylabel(\"Uhrzeit\")\n",
    "plt.tight_layout()\n",
    "plt.savefig(\"test.png\")"
   ]
  },
  {
   "cell_type": "code",
   "execution_count": 4,
   "id": "dd6b4111-e463-484d-959f-ca745aed88e7",
   "metadata": {},
   "outputs": [],
   "source": [
    "import pandas as pd\n",
    "df = pd.read_csv(\"Kaffeedaten4.csv\", sep=\";\")"
   ]
  },
  {
   "cell_type": "code",
   "execution_count": 5,
   "id": "d2b0a8af-ac48-4a6c-90e7-94c3a1fc6ed6",
   "metadata": {},
   "outputs": [
    {
     "data": {
      "text/html": [
       "<div>\n",
       "<style scoped>\n",
       "    .dataframe tbody tr th:only-of-type {\n",
       "        vertical-align: middle;\n",
       "    }\n",
       "\n",
       "    .dataframe tbody tr th {\n",
       "        vertical-align: top;\n",
       "    }\n",
       "\n",
       "    .dataframe thead th {\n",
       "        text-align: right;\n",
       "    }\n",
       "</style>\n",
       "<table border=\"1\" class=\"dataframe\">\n",
       "  <thead>\n",
       "    <tr style=\"text-align: right;\">\n",
       "      <th></th>\n",
       "      <th>Datum</th>\n",
       "      <th>Uhrzeit</th>\n",
       "      <th>Art</th>\n",
       "    </tr>\n",
       "  </thead>\n",
       "  <tbody>\n",
       "    <tr>\n",
       "      <th>0</th>\n",
       "      <td>12.12.2021</td>\n",
       "      <td>10:12:00</td>\n",
       "      <td>Kaffee</td>\n",
       "    </tr>\n",
       "    <tr>\n",
       "      <th>1</th>\n",
       "      <td>13.12.2021</td>\n",
       "      <td>09:13:00</td>\n",
       "      <td>Kaffee</td>\n",
       "    </tr>\n",
       "    <tr>\n",
       "      <th>2</th>\n",
       "      <td>14.12.2021</td>\n",
       "      <td>14:44:00</td>\n",
       "      <td>Kaffee</td>\n",
       "    </tr>\n",
       "    <tr>\n",
       "      <th>3</th>\n",
       "      <td>14.12.2021</td>\n",
       "      <td>12:12:00</td>\n",
       "      <td>Kaffee</td>\n",
       "    </tr>\n",
       "    <tr>\n",
       "      <th>4</th>\n",
       "      <td>12.12.2021</td>\n",
       "      <td>12:33:00</td>\n",
       "      <td>Kaffee</td>\n",
       "    </tr>\n",
       "  </tbody>\n",
       "</table>\n",
       "</div>"
      ],
      "text/plain": [
       "        Datum   Uhrzeit     Art\n",
       "0  12.12.2021  10:12:00  Kaffee\n",
       "1  13.12.2021  09:13:00  Kaffee\n",
       "2  14.12.2021  14:44:00  Kaffee\n",
       "3  14.12.2021  12:12:00  Kaffee\n",
       "4  12.12.2021  12:33:00  Kaffee"
      ]
     },
     "execution_count": 5,
     "metadata": {},
     "output_type": "execute_result"
    }
   ],
   "source": [
    "df.head()"
   ]
  },
  {
   "cell_type": "code",
   "execution_count": 23,
   "id": "2c80ef14-a871-4bac-b906-0c9aacd8f557",
   "metadata": {},
   "outputs": [
    {
     "name": "stdout",
     "output_type": "stream",
     "text": [
      "['2021-12-12 10:12:00', '2021-12-13 09:13:00', '2021-12-14 14:44:00', '2021-12-14 12:12:00', '2021-12-12 12:33:00', '2021-12-20 09:16:00', '2021-12-20 09:16:00', '2021-12-15 08:07:00', '2021-12-15 09:16:00', '2021-12-15 09:16:00', '2021-12-15 12:16:00', '2021-12-15 11:16:00', '2021-12-16 14:33:00', '2021-12-16 06:55:00', '2021-12-17 09:56:00', '2021-12-17 05:45:00', '2021-12-17 22:23:00', '2021-12-17 12:23:00', '2021-12-18 15:34:00', '2021-12-18 06:36:00', '2021-12-18 12:11:00', '2021-12-18 15:43:00', '2021-12-18 14:34:00', '2021-12-18 23:02:00', '2021-12-19 22:33:00', '2021-12-17 06:45:00', '2021-12-17 08:45:00', '2021-12-17 09:45:00']\n"
     ]
    }
   ],
   "source": [
    "a = df[\"Datum\"].to_list()\n",
    "b = df[\"Uhrzeit\"].to_list()\n",
    "\n",
    "c = pd.to_datetime([a[x]+\" \"+b[x] for x in range(len(a))])\n",
    "print([str(x) for x in c.to_list()])"
   ]
  },
  {
   "cell_type": "code",
   "execution_count": 31,
   "id": "9357c535-59e5-404a-9f95-8e8bf823ba7c",
   "metadata": {},
   "outputs": [
    {
     "name": "stdout",
     "output_type": "stream",
     "text": [
      "['double_espresso', 'double_espresso', 'double_espresso', 'double_espresso', 'double_espresso', 'double_espresso', 'double_espresso', 'double_espresso', 'double_espresso', 'double_espresso', 'double_espresso', 'double_espresso', 'double_espresso', 'double_espresso', 'double_espresso', 'espresso', 'espresso', 'espresso', 'espresso', 'espresso', 'espresso', 'espresso', 'espresso', 'espresso', 'espresso', 'espresso', 'espresso', 'espresso']\n"
     ]
    }
   ],
   "source": [
    "d = df[\"Art\"].to_list()\n",
    "d = [x.replace(\"Kaffee\", \"double_espresso\") for x in d]\n",
    "d = [x.replace(\"Espresso\", \"espresso\") for x in d]\n",
    "print(d)"
   ]
  },
  {
   "cell_type": "code",
   "execution_count": null,
   "id": "f1a0b513-6f50-45cd-8812-da790ef0f5a2",
   "metadata": {},
   "outputs": [],
   "source": []
  }
 ],
 "metadata": {
  "kernelspec": {
   "display_name": "Python 3 (ipykernel)",
   "language": "python",
   "name": "python3"
  },
  "language_info": {
   "codemirror_mode": {
    "name": "ipython",
    "version": 3
   },
   "file_extension": ".py",
   "mimetype": "text/x-python",
   "name": "python",
   "nbconvert_exporter": "python",
   "pygments_lexer": "ipython3",
   "version": "3.7.10"
  }
 },
 "nbformat": 4,
 "nbformat_minor": 5
}
